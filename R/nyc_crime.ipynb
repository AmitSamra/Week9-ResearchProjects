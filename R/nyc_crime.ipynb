{
 "cells": [
  {
   "cell_type": "code",
   "execution_count": 6,
   "metadata": {},
   "outputs": [
    {
     "name": "stderr",
     "output_type": "stream",
     "text": [
      "Updating HTML index of packages in '.Library'\n",
      "Making 'packages.html' ... done\n",
      "Updating HTML index of packages in '.Library'\n",
      "Making 'packages.html' ... done\n",
      "Updating HTML index of packages in '.Library'\n",
      "Making 'packages.html' ... done\n",
      "Updating HTML index of packages in '.Library'\n",
      "Making 'packages.html' ... done\n",
      "Updating HTML index of packages in '.Library'\n",
      "Making 'packages.html' ... done\n"
     ]
    }
   ],
   "source": [
    "#install.packages(\"readr\")\n",
    "#install.packages(\"plyr\")\n",
    "#install.packages(\"dplyr\")\n",
    "#install.packages(\"ggplot2\")\n",
    "#install.packages(\"corrplot\")"
   ]
  },
  {
   "cell_type": "code",
   "execution_count": null,
   "metadata": {},
   "outputs": [],
   "source": [
    "# Load packages\n",
    "library(readr)\n",
    "library(plyr)\n",
    "library(dplyr)\n",
    "library(ggplot2)\n",
    "library(corrplot)"
   ]
  },
  {
   "cell_type": "code",
   "execution_count": null,
   "metadata": {},
   "outputs": [],
   "source": [
    "# Set working directory\n",
    "setwd(\"/Users/asamra/dev/R_Project\")"
   ]
  },
  {
   "cell_type": "code",
   "execution_count": null,
   "metadata": {},
   "outputs": [],
   "source": [
    "# Import CSV\n",
    "nyc_crime <- read_csv(\"/Users/asamra/dev/R_Project/NYPD_Arrests_Data__Historic_.csv\")"
   ]
  },
  {
   "cell_type": "code",
   "execution_count": null,
   "metadata": {},
   "outputs": [],
   "source": [
    "# View first 10 records\n",
    "head(nyc_crime)"
   ]
  },
  {
   "cell_type": "code",
   "execution_count": null,
   "metadata": {},
   "outputs": [],
   "source": [
    "# View statistical summary\n",
    "summary(nyc_crime)"
   ]
  },
  {
   "cell_type": "code",
   "execution_count": null,
   "metadata": {},
   "outputs": [],
   "source": [
    "# Change ARREST_DATE in nyc_crime2 from character to date\n",
    "nyc_crime2$ARREST_DATE <- as.Date(nyc_crime2$ARREST_DATE, format = \"%m/%d/%Y\")"
   ]
  },
  {
   "cell_type": "code",
   "execution_count": null,
   "metadata": {},
   "outputs": [],
   "source": [
    "# Order ARREST_DATE by ascending\n",
    "nyc_crime2 <- nyc_crime2[order(nyc_crime2$ARREST_DATE),]"
   ]
  },
  {
   "cell_type": "code",
   "execution_count": null,
   "metadata": {},
   "outputs": [],
   "source": [
    "# Order ARREST_DATE by descending\n",
    "nyc_crime2 <- nyc_crime2[rev(order(nyc_crime2$ARREST_DATE)),]\n",
    "View(nyc_crime2)"
   ]
  },
  {
   "cell_type": "code",
   "execution_count": null,
   "metadata": {},
   "outputs": [],
   "source": [
    "# Create new columns for Year Month Day\n",
    "nyc_crime2$ARREST_YEAR <- format(as.Date(nyc_crime2$ARREST_DATE, format = \"%m/%d/%Y\"),\"%Y\")\n",
    "nyc_crime2$ARREST_MONTH <- format(as.Date(nyc_crime2$ARREST_DATE, format = \"%m/%d/%Y\"),\"%m\")\n",
    "nyc_crime2$ARREST_DAY <- format(as.Date(nyc_crime2$ARREST_DATE, format = \"%m/%d/%Y\"),\"%d\")"
   ]
  },
  {
   "cell_type": "code",
   "execution_count": null,
   "metadata": {},
   "outputs": [],
   "source": [
    "# Count all rows\n",
    "count(nyc_crime2)"
   ]
  },
  {
   "cell_type": "code",
   "execution_count": null,
   "metadata": {},
   "outputs": [],
   "source": [
    "# Count rows based on condition\n",
    "# Shows count of all arrests in 2006\n",
    "length(which(nyc_crime2$ARREST_YEAR == \"2006\"))"
   ]
  },
  {
   "cell_type": "code",
   "execution_count": null,
   "metadata": {},
   "outputs": [],
   "source": [
    "# Count / Group rows by year and count using plyr\n",
    "count(nyc_crime2, ARREST_YEAR)\n",
    "count(nyc_crime2, ARREST_MONTH)\n",
    "count(nyc_crime2, ARREST_DAY)"
   ]
  },
  {
   "cell_type": "code",
   "execution_count": null,
   "metadata": {},
   "outputs": [],
   "source": [
    "# Filter using dplyr and create new df\n",
    "df_2006_dplyr <- filter(nyc_crime2, (ARREST_YEAR == 2006))"
   ]
  },
  {
   "cell_type": "code",
   "execution_count": null,
   "metadata": {},
   "outputs": [],
   "source": [
    "# Filter all rows by multiple conditions using dplyr\n",
    "df_2006_drugs <- filter(nyc_crime2, (ARREST_YEAR == 2006 & KY_CD == 235))"
   ]
  },
  {
   "cell_type": "code",
   "execution_count": null,
   "metadata": {},
   "outputs": [],
   "source": [
    "nyc_crime2 %>% \n",
    "  group_by(ARREST_YEAR) %>% \n",
    "  summarize(total_arrests = n()) %>% \n",
    "  ggplot( aes ( x = ARREST_YEAR, y = total_arrests, group = 1 ) ) + geom_line()"
   ]
  },
  {
   "cell_type": "code",
   "execution_count": null,
   "metadata": {},
   "outputs": [],
   "source": [
    "# Plot total drug arrests for all years\n",
    "nyc_crime2 %>% \n",
    "  filter(KY_CD == 235) %>% \n",
    "  group_by(ARREST_YEAR) %>% \n",
    "  summarize(drug_arrests = n()) %>% \n",
    "  ggplot( aes ( x = ARREST_YEAR, y = drug_arrests, group = 1 ) ) + geom_line()"
   ]
  },
  {
   "cell_type": "code",
   "execution_count": null,
   "metadata": {},
   "outputs": [],
   "source": [
    "# Plot total arrests with line for each year\n",
    "nyc_crime2 %>% \n",
    "  group_by(ARREST_YEAR, ARREST_MONTH) %>% \n",
    "  summarize(total_arrests = n()) %>% \n",
    "  ggplot( aes ( x = ARREST_MONTH, y = total_arrests, group = ARREST_YEAR, color = ARREST_YEAR) ) + geom_line()"
   ]
  },
  {
   "cell_type": "code",
   "execution_count": null,
   "metadata": {},
   "outputs": [],
   "source": [
    "# Plot total drug arrests by year bar\n",
    "nyc_crime2 %>% \n",
    "  filter(KY_CD == 235) %>% \n",
    "  group_by(ARREST_YEAR) %>% \n",
    "  summarize(drug_arrests = n()) %>% \n",
    "  ggplot( aes ( x = ARREST_YEAR, y = drug_arrests, group = ARREST_YEAR) ) + \n",
    "  geom_bar(stat = 'identity', fill = 'steelblue')"
   ]
  },
  {
   "cell_type": "code",
   "execution_count": null,
   "metadata": {},
   "outputs": [],
   "source": [
    "# Top 10 crimes by name\n",
    "crimes_by_OFNS_DESC <- nyc_crime2 %>%\n",
    "  #filter(ARREST_YEAR == 2018) %>% \n",
    "  group_by(OFNS_DESC) %>% \n",
    "  summarize(total_arrests = n())\n",
    "# order top 10 crimes desc\n",
    "top10_name <- top_n(crimes_by_OFNS_DESC, 10, total_arrests) %>% arrange(desc(total_arrests))"
   ]
  },
  {
   "cell_type": "code",
   "execution_count": null,
   "metadata": {},
   "outputs": [],
   "source": [
    "# Plot total arrrests of top crimes\n",
    "top10_name %>% \n",
    "  group_by(OFNS_DESC) %>% \n",
    "  #summarize(total_arrests = n()) %>% \n",
    "  ggplot( aes ( x = OFNS_DESC, y = total_arrests, group = 1) ) + \n",
    "  geom_bar(stat = 'identity', fill = 'steelblue') +\n",
    "  theme(axis.text.x = element_text(angle = 45, hjust = 1))"
   ]
  },
  {
   "cell_type": "code",
   "execution_count": null,
   "metadata": {},
   "outputs": [],
   "source": [
    "# Plot by filtering by age groups\n",
    "nyc_crime2 %>% \n",
    "  filter(AGE_GROUP %in% c(\"25-44\",\"65+\",\"45-64\",\"18-24\",\"<18\")) %>%\n",
    "  group_by(AGE_GROUP) %>% \n",
    "  summarize(total_arrests = n()) %>% \n",
    "  ggplot( aes ( x = AGE_GROUP, y = total_arrests) ) + \n",
    "  geom_bar(stat = 'identity', fill = 'steelblue')"
   ]
  },
  {
   "cell_type": "code",
   "execution_count": null,
   "metadata": {},
   "outputs": [],
   "source": [
    "# Pie plot arrests by gender\n",
    "nyc_crime2 %>% \n",
    "  group_by(PERP_SEX) %>%\n",
    "  summarize(total_arrests = n()) %>%\n",
    "  ggplot(aes(x = \"\", y = total_arrests, fill=PERP_SEX)) +  \n",
    "  geom_bar(stat = 'identity', width=1) +\n",
    "  coord_polar('y', start=0) +\n",
    "  theme_void()"
   ]
  },
  {
   "cell_type": "code",
   "execution_count": null,
   "metadata": {},
   "outputs": [],
   "source": []
  }
 ],
 "metadata": {
  "kernelspec": {
   "display_name": "R",
   "language": "R",
   "name": "ir"
  },
  "language_info": {
   "codemirror_mode": "r",
   "file_extension": ".r",
   "mimetype": "text/x-r-source",
   "name": "R",
   "pygments_lexer": "r",
   "version": "3.6.1"
  }
 },
 "nbformat": 4,
 "nbformat_minor": 4
}
